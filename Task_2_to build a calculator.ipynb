{
 "cells": [
  {
   "cell_type": "code",
   "execution_count": null,
   "id": "dfe63b6b",
   "metadata": {},
   "outputs": [
    {
     "name": "stdout",
     "output_type": "stream",
     "text": [
      "Select operation:\n",
      "1. Addition\n",
      "2. Subtraction\n",
      "3. Multiplication\n",
      "4. Division\n"
     ]
    }
   ],
   "source": [
    "def add(x, y):\n",
    "    return x + y\n",
    "\n",
    "def subtract(x, y):\n",
    "    return x - y\n",
    "\n",
    "def multiply(x, y):\n",
    "    return x * y\n",
    "\n",
    "def divide(x, y):\n",
    "    if y != 0:\n",
    "        return x / y\n",
    "    else:\n",
    "        return \"Error! Division by zero.\"\n",
    "\n",
    "def calculator():\n",
    "    print(\"Select operation:\")\n",
    "    print(\"1. Addition\")\n",
    "    print(\"2. Subtraction\")\n",
    "    print(\"3. Multiplication\")\n",
    "    print(\"4. Division\")\n",
    "    \n",
    "    choice = input(\"Enter choice (1/2/3/4): \")\n",
    "    \n",
    "    if choice in ['1', '2', '3', '4']:\n",
    "        num1 = float(input(\"Enter first number: \"))\n",
    "        num2 = float(input(\"Enter second number: \"))\n",
    "        \n",
    "        if choice == '1':\n",
    "            print(f\"{num1} + {num2} = {add(num1, num2)}\")\n",
    "        elif choice == '2':\n",
    "            print(f\"{num1} - {num2} = {subtract(num1, num2)}\")\n",
    "        elif choice == '3':\n",
    "            print(f\"{num1} * {num2} = {multiply(num1, num2)}\")\n",
    "        elif choice == '4':\n",
    "            result = divide(num1, num2)\n",
    "            print(f\"{num1} / {num2} = {result}\")\n",
    "    else:\n",
    "        print(\"Invalid input\")\n",
    "\n",
    "if __name__ == \"__main__\":\n",
    "    calculator()\n"
   ]
  },
  {
   "cell_type": "code",
   "execution_count": null,
   "id": "b76aeda2",
   "metadata": {},
   "outputs": [],
   "source": []
  }
 ],
 "metadata": {
  "kernelspec": {
   "display_name": "Python 3 (ipykernel)",
   "language": "python",
   "name": "python3"
  },
  "language_info": {
   "codemirror_mode": {
    "name": "ipython",
    "version": 3
   },
   "file_extension": ".py",
   "mimetype": "text/x-python",
   "name": "python",
   "nbconvert_exporter": "python",
   "pygments_lexer": "ipython3",
   "version": "3.11.5"
  }
 },
 "nbformat": 4,
 "nbformat_minor": 5
}
